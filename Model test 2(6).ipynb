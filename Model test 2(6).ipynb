{
 "cells": [
  {
   "cell_type": "code",
   "execution_count": 1,
   "metadata": {},
   "outputs": [],
   "source": [
    "#loading the data and set up the environment\n",
    "import pandas as pd\n",
    "import matplotlib.pyplot as plt\n",
    "%matplotlib inline\n",
    "import seaborn as sns\n",
    "train_datapath = r\"\\\\icnas2.cc.ic.ac.uk\\jr3418\\Desktop\\UROP\\Predicting the molecular properties\\Data\\train.csv\"\n",
    "train = pd.read_csv(train_datapath,)\n",
    "\n",
    "magnetic_shielding_tensors_datapath = r\"\\\\icnas2.cc.ic.ac.uk\\jr3418\\Desktop\\UROP\\Predicting the molecular properties\\Data\\magnetic_shielding_tensors.csv\"\n",
    "mst = pd.read_csv(magnetic_shielding_tensors_datapath)\n",
    "\n",
    "dipolemoment_datapath = r\"\\\\icnas2.cc.ic.ac.uk\\jr3418\\Desktop\\UROP\\Predicting the molecular properties\\Data\\dipole_moments.csv\"\n",
    "dm = pd.read_csv(dipolemoment_datapath)\n",
    "\n",
    "test_path = r\"\\\\icnas2.cc.ic.ac.uk\\jr3418\\Desktop\\UROP\\Predicting the molecular properties\\Data\\test.csv\"\n",
    "test = pd.read_csv(test_path, )\n",
    "\n",
    "mulliken_charge_path = r\"\\\\icnas2.cc.ic.ac.uk\\jr3418\\Desktop\\UROP\\Predicting the molecular properties\\Data\\mulliken_charges.csv\"\n",
    "mc = pd.read_csv(mulliken_charge_path)\n",
    "\n",
    "potentialenergy_path = r\"\\\\icnas2.cc.ic.ac.uk\\jr3418\\Desktop\\UROP\\Predicting the molecular properties\\Data\\potential_energy.csv\"\n",
    "pe = pd.read_csv(potentialenergy_path)\n",
    "\n",
    "scalar_coupling_contributions_path = r\"\\\\icnas2.cc.ic.ac.uk\\jr3418\\Desktop\\UROP\\Predicting the molecular properties\\Data\\scalar_coupling_contributions.csv\"\n",
    "scc = pd.read_csv(scalar_coupling_contributions_path)\n",
    "\n",
    "structures_path = r\"\\\\icnas2.cc.ic.ac.uk\\jr3418\\Desktop\\UROP\\Predicting the molecular properties\\Data\\structures.csv\"\n",
    "structures = pd.read_csv(structures_path)"
   ]
  },
  {
   "cell_type": "code",
   "execution_count": 2,
   "metadata": {},
   "outputs": [
    {
     "data": {
      "text/html": [
       "<div>\n",
       "<style scoped>\n",
       "    .dataframe tbody tr th:only-of-type {\n",
       "        vertical-align: middle;\n",
       "    }\n",
       "\n",
       "    .dataframe tbody tr th {\n",
       "        vertical-align: top;\n",
       "    }\n",
       "\n",
       "    .dataframe thead th {\n",
       "        text-align: right;\n",
       "    }\n",
       "</style>\n",
       "<table border=\"1\" class=\"dataframe\">\n",
       "  <thead>\n",
       "    <tr style=\"text-align: right;\">\n",
       "      <th></th>\n",
       "      <th>id</th>\n",
       "      <th>molecule_name</th>\n",
       "      <th>atom_index_0</th>\n",
       "      <th>atom_index_1</th>\n",
       "      <th>type</th>\n",
       "      <th>scalar_coupling_constant</th>\n",
       "    </tr>\n",
       "  </thead>\n",
       "  <tbody>\n",
       "    <tr>\n",
       "      <th>0</th>\n",
       "      <td>0</td>\n",
       "      <td>dsgdb9nsd_000001</td>\n",
       "      <td>1</td>\n",
       "      <td>0</td>\n",
       "      <td>1JHC</td>\n",
       "      <td>84.8076</td>\n",
       "    </tr>\n",
       "    <tr>\n",
       "      <th>1</th>\n",
       "      <td>1</td>\n",
       "      <td>dsgdb9nsd_000001</td>\n",
       "      <td>1</td>\n",
       "      <td>2</td>\n",
       "      <td>2JHH</td>\n",
       "      <td>-11.2570</td>\n",
       "    </tr>\n",
       "    <tr>\n",
       "      <th>2</th>\n",
       "      <td>2</td>\n",
       "      <td>dsgdb9nsd_000001</td>\n",
       "      <td>1</td>\n",
       "      <td>3</td>\n",
       "      <td>2JHH</td>\n",
       "      <td>-11.2548</td>\n",
       "    </tr>\n",
       "    <tr>\n",
       "      <th>3</th>\n",
       "      <td>3</td>\n",
       "      <td>dsgdb9nsd_000001</td>\n",
       "      <td>1</td>\n",
       "      <td>4</td>\n",
       "      <td>2JHH</td>\n",
       "      <td>-11.2543</td>\n",
       "    </tr>\n",
       "    <tr>\n",
       "      <th>4</th>\n",
       "      <td>4</td>\n",
       "      <td>dsgdb9nsd_000001</td>\n",
       "      <td>2</td>\n",
       "      <td>0</td>\n",
       "      <td>1JHC</td>\n",
       "      <td>84.8074</td>\n",
       "    </tr>\n",
       "  </tbody>\n",
       "</table>\n",
       "</div>"
      ],
      "text/plain": [
       "   id     molecule_name  atom_index_0  atom_index_1  type  \\\n",
       "0   0  dsgdb9nsd_000001             1             0  1JHC   \n",
       "1   1  dsgdb9nsd_000001             1             2  2JHH   \n",
       "2   2  dsgdb9nsd_000001             1             3  2JHH   \n",
       "3   3  dsgdb9nsd_000001             1             4  2JHH   \n",
       "4   4  dsgdb9nsd_000001             2             0  1JHC   \n",
       "\n",
       "   scalar_coupling_constant  \n",
       "0                   84.8076  \n",
       "1                  -11.2570  \n",
       "2                  -11.2548  \n",
       "3                  -11.2543  \n",
       "4                   84.8074  "
      ]
     },
     "execution_count": 2,
     "metadata": {},
     "output_type": "execute_result"
    }
   ],
   "source": [
    "train.head()"
   ]
  },
  {
   "cell_type": "code",
   "execution_count": 3,
   "metadata": {},
   "outputs": [
    {
     "name": "stdout",
     "output_type": "stream",
     "text": [
      "<class 'pandas.core.frame.DataFrame'>\n",
      "RangeIndex: 4658147 entries, 0 to 4658146\n",
      "Data columns (total 6 columns):\n",
      "id                          int64\n",
      "molecule_name               object\n",
      "atom_index_0                int64\n",
      "atom_index_1                int64\n",
      "type                        object\n",
      "scalar_coupling_constant    float64\n",
      "dtypes: float64(1), int64(3), object(2)\n",
      "memory usage: 213.2+ MB\n"
     ]
    }
   ],
   "source": [
    "train.info()"
   ]
  },
  {
   "cell_type": "code",
   "execution_count": 4,
   "metadata": {},
   "outputs": [
    {
     "data": {
      "text/html": [
       "<div>\n",
       "<style scoped>\n",
       "    .dataframe tbody tr th:only-of-type {\n",
       "        vertical-align: middle;\n",
       "    }\n",
       "\n",
       "    .dataframe tbody tr th {\n",
       "        vertical-align: top;\n",
       "    }\n",
       "\n",
       "    .dataframe thead th {\n",
       "        text-align: right;\n",
       "    }\n",
       "</style>\n",
       "<table border=\"1\" class=\"dataframe\">\n",
       "  <thead>\n",
       "    <tr style=\"text-align: right;\">\n",
       "      <th></th>\n",
       "      <th>id</th>\n",
       "      <th>molecule_name</th>\n",
       "      <th>atom_index_0</th>\n",
       "      <th>atom_index_1</th>\n",
       "      <th>type</th>\n",
       "    </tr>\n",
       "  </thead>\n",
       "  <tbody>\n",
       "    <tr>\n",
       "      <th>0</th>\n",
       "      <td>4658147</td>\n",
       "      <td>dsgdb9nsd_000004</td>\n",
       "      <td>2</td>\n",
       "      <td>0</td>\n",
       "      <td>2JHC</td>\n",
       "    </tr>\n",
       "    <tr>\n",
       "      <th>1</th>\n",
       "      <td>4658148</td>\n",
       "      <td>dsgdb9nsd_000004</td>\n",
       "      <td>2</td>\n",
       "      <td>1</td>\n",
       "      <td>1JHC</td>\n",
       "    </tr>\n",
       "    <tr>\n",
       "      <th>2</th>\n",
       "      <td>4658149</td>\n",
       "      <td>dsgdb9nsd_000004</td>\n",
       "      <td>2</td>\n",
       "      <td>3</td>\n",
       "      <td>3JHH</td>\n",
       "    </tr>\n",
       "    <tr>\n",
       "      <th>3</th>\n",
       "      <td>4658150</td>\n",
       "      <td>dsgdb9nsd_000004</td>\n",
       "      <td>3</td>\n",
       "      <td>0</td>\n",
       "      <td>1JHC</td>\n",
       "    </tr>\n",
       "    <tr>\n",
       "      <th>4</th>\n",
       "      <td>4658151</td>\n",
       "      <td>dsgdb9nsd_000004</td>\n",
       "      <td>3</td>\n",
       "      <td>1</td>\n",
       "      <td>2JHC</td>\n",
       "    </tr>\n",
       "  </tbody>\n",
       "</table>\n",
       "</div>"
      ],
      "text/plain": [
       "        id     molecule_name  atom_index_0  atom_index_1  type\n",
       "0  4658147  dsgdb9nsd_000004             2             0  2JHC\n",
       "1  4658148  dsgdb9nsd_000004             2             1  1JHC\n",
       "2  4658149  dsgdb9nsd_000004             2             3  3JHH\n",
       "3  4658150  dsgdb9nsd_000004             3             0  1JHC\n",
       "4  4658151  dsgdb9nsd_000004             3             1  2JHC"
      ]
     },
     "execution_count": 4,
     "metadata": {},
     "output_type": "execute_result"
    }
   ],
   "source": [
    "test.head()"
   ]
  },
  {
   "cell_type": "code",
   "execution_count": 5,
   "metadata": {},
   "outputs": [
    {
     "data": {
      "text/plain": [
       "Index(['id', 'molecule_name', 'atom_index_0', 'atom_index_1', 'type',\n",
       "       'scalar_coupling_constant'],\n",
       "      dtype='object')"
      ]
     },
     "execution_count": 5,
     "metadata": {},
     "output_type": "execute_result"
    }
   ],
   "source": [
    "train.columns"
   ]
  },
  {
   "cell_type": "code",
   "execution_count": 6,
   "metadata": {},
   "outputs": [],
   "source": [
    "train.columns = ['id', 'molecule_name', 'atom_index', 'atom_index_1', 'type',\n",
    "       'scalar_coupling_constant']"
   ]
  },
  {
   "cell_type": "code",
   "execution_count": 7,
   "metadata": {},
   "outputs": [
    {
     "data": {
      "text/plain": [
       "Index(['molecule_name', 'atom_index', 'mulliken_charge'], dtype='object')"
      ]
     },
     "execution_count": 7,
     "metadata": {},
     "output_type": "execute_result"
    }
   ],
   "source": [
    "mc.columns"
   ]
  },
  {
   "cell_type": "code",
   "execution_count": 8,
   "metadata": {},
   "outputs": [
    {
     "data": {
      "text/plain": [
       "Index(['molecule_name', 'atom_index', 'XX', 'YX', 'ZX', 'XY', 'YY', 'ZY', 'XZ',\n",
       "       'YZ', 'ZZ'],\n",
       "      dtype='object')"
      ]
     },
     "execution_count": 8,
     "metadata": {},
     "output_type": "execute_result"
    }
   ],
   "source": [
    "mst.columns"
   ]
  },
  {
   "cell_type": "code",
   "execution_count": 9,
   "metadata": {},
   "outputs": [
    {
     "data": {
      "text/html": [
       "<div>\n",
       "<style scoped>\n",
       "    .dataframe tbody tr th:only-of-type {\n",
       "        vertical-align: middle;\n",
       "    }\n",
       "\n",
       "    .dataframe tbody tr th {\n",
       "        vertical-align: top;\n",
       "    }\n",
       "\n",
       "    .dataframe thead th {\n",
       "        text-align: right;\n",
       "    }\n",
       "</style>\n",
       "<table border=\"1\" class=\"dataframe\">\n",
       "  <thead>\n",
       "    <tr style=\"text-align: right;\">\n",
       "      <th></th>\n",
       "      <th>id</th>\n",
       "      <th>molecule_name</th>\n",
       "      <th>atom_index</th>\n",
       "      <th>atom_index_1</th>\n",
       "      <th>type</th>\n",
       "      <th>scalar_coupling_constant</th>\n",
       "    </tr>\n",
       "  </thead>\n",
       "  <tbody>\n",
       "    <tr>\n",
       "      <th>0</th>\n",
       "      <td>0</td>\n",
       "      <td>dsgdb9nsd_000001</td>\n",
       "      <td>1</td>\n",
       "      <td>0</td>\n",
       "      <td>1JHC</td>\n",
       "      <td>84.8076</td>\n",
       "    </tr>\n",
       "    <tr>\n",
       "      <th>1</th>\n",
       "      <td>1</td>\n",
       "      <td>dsgdb9nsd_000001</td>\n",
       "      <td>1</td>\n",
       "      <td>2</td>\n",
       "      <td>2JHH</td>\n",
       "      <td>-11.2570</td>\n",
       "    </tr>\n",
       "    <tr>\n",
       "      <th>2</th>\n",
       "      <td>2</td>\n",
       "      <td>dsgdb9nsd_000001</td>\n",
       "      <td>1</td>\n",
       "      <td>3</td>\n",
       "      <td>2JHH</td>\n",
       "      <td>-11.2548</td>\n",
       "    </tr>\n",
       "    <tr>\n",
       "      <th>3</th>\n",
       "      <td>3</td>\n",
       "      <td>dsgdb9nsd_000001</td>\n",
       "      <td>1</td>\n",
       "      <td>4</td>\n",
       "      <td>2JHH</td>\n",
       "      <td>-11.2543</td>\n",
       "    </tr>\n",
       "    <tr>\n",
       "      <th>4</th>\n",
       "      <td>4</td>\n",
       "      <td>dsgdb9nsd_000001</td>\n",
       "      <td>2</td>\n",
       "      <td>0</td>\n",
       "      <td>1JHC</td>\n",
       "      <td>84.8074</td>\n",
       "    </tr>\n",
       "    <tr>\n",
       "      <th>5</th>\n",
       "      <td>5</td>\n",
       "      <td>dsgdb9nsd_000001</td>\n",
       "      <td>2</td>\n",
       "      <td>3</td>\n",
       "      <td>2JHH</td>\n",
       "      <td>-11.2541</td>\n",
       "    </tr>\n",
       "    <tr>\n",
       "      <th>6</th>\n",
       "      <td>6</td>\n",
       "      <td>dsgdb9nsd_000001</td>\n",
       "      <td>2</td>\n",
       "      <td>4</td>\n",
       "      <td>2JHH</td>\n",
       "      <td>-11.2548</td>\n",
       "    </tr>\n",
       "    <tr>\n",
       "      <th>7</th>\n",
       "      <td>7</td>\n",
       "      <td>dsgdb9nsd_000001</td>\n",
       "      <td>3</td>\n",
       "      <td>0</td>\n",
       "      <td>1JHC</td>\n",
       "      <td>84.8093</td>\n",
       "    </tr>\n",
       "    <tr>\n",
       "      <th>8</th>\n",
       "      <td>8</td>\n",
       "      <td>dsgdb9nsd_000001</td>\n",
       "      <td>3</td>\n",
       "      <td>4</td>\n",
       "      <td>2JHH</td>\n",
       "      <td>-11.2543</td>\n",
       "    </tr>\n",
       "    <tr>\n",
       "      <th>9</th>\n",
       "      <td>9</td>\n",
       "      <td>dsgdb9nsd_000001</td>\n",
       "      <td>4</td>\n",
       "      <td>0</td>\n",
       "      <td>1JHC</td>\n",
       "      <td>84.8095</td>\n",
       "    </tr>\n",
       "  </tbody>\n",
       "</table>\n",
       "</div>"
      ],
      "text/plain": [
       "   id     molecule_name  atom_index  atom_index_1  type  \\\n",
       "0   0  dsgdb9nsd_000001           1             0  1JHC   \n",
       "1   1  dsgdb9nsd_000001           1             2  2JHH   \n",
       "2   2  dsgdb9nsd_000001           1             3  2JHH   \n",
       "3   3  dsgdb9nsd_000001           1             4  2JHH   \n",
       "4   4  dsgdb9nsd_000001           2             0  1JHC   \n",
       "5   5  dsgdb9nsd_000001           2             3  2JHH   \n",
       "6   6  dsgdb9nsd_000001           2             4  2JHH   \n",
       "7   7  dsgdb9nsd_000001           3             0  1JHC   \n",
       "8   8  dsgdb9nsd_000001           3             4  2JHH   \n",
       "9   9  dsgdb9nsd_000001           4             0  1JHC   \n",
       "\n",
       "   scalar_coupling_constant  \n",
       "0                   84.8076  \n",
       "1                  -11.2570  \n",
       "2                  -11.2548  \n",
       "3                  -11.2543  \n",
       "4                   84.8074  \n",
       "5                  -11.2541  \n",
       "6                  -11.2548  \n",
       "7                   84.8093  \n",
       "8                  -11.2543  \n",
       "9                   84.8095  "
      ]
     },
     "execution_count": 9,
     "metadata": {},
     "output_type": "execute_result"
    }
   ],
   "source": [
    "train.head(10)"
   ]
  },
  {
   "cell_type": "code",
   "execution_count": 10,
   "metadata": {},
   "outputs": [],
   "source": [
    "trainindex = train['atom_index'].tolist()\n",
    "trainname = train['molecule_name'].tolist()"
   ]
  },
  {
   "cell_type": "code",
   "execution_count": 11,
   "metadata": {},
   "outputs": [],
   "source": [
    "i = 0\n",
    "a = []\n",
    "b = 1\n",
    "c = 0\n",
    "for i in range(0,4658146):\n",
    "    f = 1   \n",
    "    if trainindex[c] == trainindex[c + 1] and trainname[c] == trainname[c+1]:\n",
    "        a.append(b)\n",
    "        c += 1\n",
    "        i += 1\n",
    "    else:\n",
    "        a.append(b)\n",
    "        if trainname[c]!=trainname[1+c]:\n",
    "            b += 1\n",
    "            o = 0\n",
    "            if trainindex[c+1] > trainindex[c]:\n",
    "                b = b + (trainindex[c+1]-trainindex[c])\n",
    "                o += 1\n",
    "            if f < trainindex[c+1+o]:\n",
    "                b = (trainindex[c+1+0]-f) + b\n",
    "                f += 1\n",
    "        b += 1\n",
    "        c += 1\n",
    "        i += 1\n",
    "        \n",
    "    "
   ]
  },
  {
   "cell_type": "code",
   "execution_count": 12,
   "metadata": {},
   "outputs": [],
   "source": [
    "a.append(a[4658145])\n",
    "indices = a\n",
    "cols =  ['atom_index','XX', 'YX', 'ZX', 'XY', 'YY', 'ZY', 'XZ','YZ', 'ZZ']\n",
    "mst1 = mst.loc[indices, cols]"
   ]
  },
  {
   "cell_type": "code",
   "execution_count": 13,
   "metadata": {},
   "outputs": [
    {
     "data": {
      "text/html": [
       "<div>\n",
       "<style scoped>\n",
       "    .dataframe tbody tr th:only-of-type {\n",
       "        vertical-align: middle;\n",
       "    }\n",
       "\n",
       "    .dataframe tbody tr th {\n",
       "        vertical-align: top;\n",
       "    }\n",
       "\n",
       "    .dataframe thead th {\n",
       "        text-align: right;\n",
       "    }\n",
       "</style>\n",
       "<table border=\"1\" class=\"dataframe\">\n",
       "  <thead>\n",
       "    <tr style=\"text-align: right;\">\n",
       "      <th></th>\n",
       "      <th>atom_index</th>\n",
       "      <th>XX</th>\n",
       "      <th>YX</th>\n",
       "      <th>ZX</th>\n",
       "      <th>XY</th>\n",
       "      <th>YY</th>\n",
       "      <th>ZY</th>\n",
       "      <th>XZ</th>\n",
       "      <th>YZ</th>\n",
       "      <th>ZZ</th>\n",
       "    </tr>\n",
       "  </thead>\n",
       "  <tbody>\n",
       "    <tr>\n",
       "      <th>1</th>\n",
       "      <td>1</td>\n",
       "      <td>31.3410</td>\n",
       "      <td>-1.2317</td>\n",
       "      <td>4.0544</td>\n",
       "      <td>-1.2317</td>\n",
       "      <td>28.9546</td>\n",
       "      <td>-1.7173</td>\n",
       "      <td>4.0546</td>\n",
       "      <td>-1.7173</td>\n",
       "      <td>34.0861</td>\n",
       "    </tr>\n",
       "    <tr>\n",
       "      <th>1</th>\n",
       "      <td>1</td>\n",
       "      <td>31.3410</td>\n",
       "      <td>-1.2317</td>\n",
       "      <td>4.0544</td>\n",
       "      <td>-1.2317</td>\n",
       "      <td>28.9546</td>\n",
       "      <td>-1.7173</td>\n",
       "      <td>4.0546</td>\n",
       "      <td>-1.7173</td>\n",
       "      <td>34.0861</td>\n",
       "    </tr>\n",
       "    <tr>\n",
       "      <th>1</th>\n",
       "      <td>1</td>\n",
       "      <td>31.3410</td>\n",
       "      <td>-1.2317</td>\n",
       "      <td>4.0544</td>\n",
       "      <td>-1.2317</td>\n",
       "      <td>28.9546</td>\n",
       "      <td>-1.7173</td>\n",
       "      <td>4.0546</td>\n",
       "      <td>-1.7173</td>\n",
       "      <td>34.0861</td>\n",
       "    </tr>\n",
       "    <tr>\n",
       "      <th>1</th>\n",
       "      <td>1</td>\n",
       "      <td>31.3410</td>\n",
       "      <td>-1.2317</td>\n",
       "      <td>4.0544</td>\n",
       "      <td>-1.2317</td>\n",
       "      <td>28.9546</td>\n",
       "      <td>-1.7173</td>\n",
       "      <td>4.0546</td>\n",
       "      <td>-1.7173</td>\n",
       "      <td>34.0861</td>\n",
       "    </tr>\n",
       "    <tr>\n",
       "      <th>2</th>\n",
       "      <td>2</td>\n",
       "      <td>31.5814</td>\n",
       "      <td>1.2173</td>\n",
       "      <td>-4.1474</td>\n",
       "      <td>1.2173</td>\n",
       "      <td>28.9036</td>\n",
       "      <td>-1.6036</td>\n",
       "      <td>-4.1476</td>\n",
       "      <td>-1.6036</td>\n",
       "      <td>33.8967</td>\n",
       "    </tr>\n",
       "  </tbody>\n",
       "</table>\n",
       "</div>"
      ],
      "text/plain": [
       "   atom_index       XX      YX      ZX      XY       YY      ZY      XZ  \\\n",
       "1           1  31.3410 -1.2317  4.0544 -1.2317  28.9546 -1.7173  4.0546   \n",
       "1           1  31.3410 -1.2317  4.0544 -1.2317  28.9546 -1.7173  4.0546   \n",
       "1           1  31.3410 -1.2317  4.0544 -1.2317  28.9546 -1.7173  4.0546   \n",
       "1           1  31.3410 -1.2317  4.0544 -1.2317  28.9546 -1.7173  4.0546   \n",
       "2           2  31.5814  1.2173 -4.1474  1.2173  28.9036 -1.6036 -4.1476   \n",
       "\n",
       "       YZ       ZZ  \n",
       "1 -1.7173  34.0861  \n",
       "1 -1.7173  34.0861  \n",
       "1 -1.7173  34.0861  \n",
       "1 -1.7173  34.0861  \n",
       "2 -1.6036  33.8967  "
      ]
     },
     "execution_count": 13,
     "metadata": {},
     "output_type": "execute_result"
    }
   ],
   "source": [
    "mst1.head()"
   ]
  },
  {
   "cell_type": "code",
   "execution_count": 14,
   "metadata": {},
   "outputs": [],
   "source": [
    "indices = a\n",
    "cols =  ['atom_index', 'mulliken_charge']\n",
    "mc1 = mc.loc[indices, cols]"
   ]
  },
  {
   "cell_type": "markdown",
   "metadata": {},
   "source": [
    "mc1.head()"
   ]
  },
  {
   "cell_type": "code",
   "execution_count": 15,
   "metadata": {},
   "outputs": [
    {
     "name": "stdout",
     "output_type": "stream",
     "text": [
      "<class 'pandas.core.frame.DataFrame'>\n",
      "Int64Index: 4658147 entries, 1 to 1532114\n",
      "Data columns (total 2 columns):\n",
      "atom_index         int64\n",
      "mulliken_charge    float64\n",
      "dtypes: float64(1), int64(1)\n",
      "memory usage: 106.6 MB\n"
     ]
    }
   ],
   "source": [
    "mc1.info()"
   ]
  },
  {
   "cell_type": "code",
   "execution_count": 16,
   "metadata": {},
   "outputs": [
    {
     "name": "stdout",
     "output_type": "stream",
     "text": [
      "<class 'pandas.core.frame.DataFrame'>\n",
      "Int64Index: 4658147 entries, 1 to 1532114\n",
      "Data columns (total 10 columns):\n",
      "atom_index    int64\n",
      "XX            float64\n",
      "YX            float64\n",
      "ZX            float64\n",
      "XY            float64\n",
      "YY            float64\n",
      "ZY            float64\n",
      "XZ            float64\n",
      "YZ            float64\n",
      "ZZ            float64\n",
      "dtypes: float64(9), int64(1)\n",
      "memory usage: 390.9 MB\n"
     ]
    }
   ],
   "source": [
    "mst1.info()"
   ]
  },
  {
   "cell_type": "code",
   "execution_count": 17,
   "metadata": {},
   "outputs": [],
   "source": [
    "#        A\n",
    "#        L\n",
    "#        L\n",
    "#\n",
    "#        D\n",
    "#        O\n",
    "#        N\n",
    "#        E\n",
    "#\n",
    "#        T\n",
    "#        I\n",
    "#        L\n",
    "#        L\n",
    "#\n",
    "#        H\n",
    "#        E\n",
    "#        R\n",
    "#        E\n",
    "\n",
    "\n",
    "#the first atom's data in the atom pair is done.\n",
    "#time for the second one\n",
    "trainindex1 = train['atom_index_1'].tolist()"
   ]
  },
  {
   "cell_type": "code",
   "execution_count": 18,
   "metadata": {},
   "outputs": [
    {
     "name": "stdout",
     "output_type": "stream",
     "text": [
      "0\n",
      "2\n",
      "2\n"
     ]
    }
   ],
   "source": [
    "print(trainindex1[0])\n",
    "print(trainindex1[1])\n",
    "print(trainindex1[1]-trainindex1[0])\n",
    "x = 0\n",
    "y = 0\n",
    "z = 0\n",
    "w = []\n",
    "v = 0\n",
    "for x in range(0,4658145):\n",
    "    w.append(y)\n",
    "    if trainindex1[x+1]>trainindex1[x] and trainname[x] == trainname[x+1]:\n",
    "        y = y+(trainindex1[x+1]-trainindex1[x])\n",
    "    else:\n",
    "        y = v\n",
    "    if trainindex1[x+1]<=trainindex1[x]:\n",
    "        v += 1\n",
    "    if trainname[x+1] != trainname[x]:\n",
    "        if trainindex1[x+1]<=trainindex1[x]:\n",
    "            v -= 1\n",
    "        v += 2\n",
    "        y = v\n",
    "    p = 0\n",
    "    if p < trainindex1[x+1] and trainname[x+1] != trainname[x]:\n",
    "        v = v + trainindex1[x+1]\n",
    "        y = v\n",
    "        \n",
    "    x += 1"
   ]
  },
  {
   "cell_type": "code",
   "execution_count": 19,
   "metadata": {},
   "outputs": [],
   "source": [
    "w.append(w[4658144])\n",
    "w.append(w[4658145])\n",
    "indices = w\n",
    "cols =  ['atom_index','XX', 'YX', 'ZX', 'XY', 'YY', 'ZY', 'XZ','YZ', 'ZZ']\n",
    "mst2 = mst.loc[indices, cols]"
   ]
  },
  {
   "cell_type": "code",
   "execution_count": 20,
   "metadata": {},
   "outputs": [
    {
     "name": "stdout",
     "output_type": "stream",
     "text": [
      "<class 'pandas.core.frame.DataFrame'>\n",
      "Int64Index: 4658147 entries, 0 to 890427\n",
      "Data columns (total 10 columns):\n",
      "atom_index    int64\n",
      "XX            float64\n",
      "YX            float64\n",
      "ZX            float64\n",
      "XY            float64\n",
      "YY            float64\n",
      "ZY            float64\n",
      "XZ            float64\n",
      "YZ            float64\n",
      "ZZ            float64\n",
      "dtypes: float64(9), int64(1)\n",
      "memory usage: 390.9 MB\n"
     ]
    }
   ],
   "source": [
    "mst2.info()"
   ]
  },
  {
   "cell_type": "code",
   "execution_count": 21,
   "metadata": {},
   "outputs": [],
   "source": [
    "indices = w\n",
    "cols =  ['atom_index', 'mulliken_charge']\n",
    "mc2 = mc.loc[indices, cols]"
   ]
  },
  {
   "cell_type": "code",
   "execution_count": 22,
   "metadata": {},
   "outputs": [
    {
     "name": "stdout",
     "output_type": "stream",
     "text": [
      "<class 'pandas.core.frame.DataFrame'>\n",
      "Int64Index: 4658147 entries, 0 to 890427\n",
      "Data columns (total 2 columns):\n",
      "atom_index         int64\n",
      "mulliken_charge    float64\n",
      "dtypes: float64(1), int64(1)\n",
      "memory usage: 106.6 MB\n"
     ]
    }
   ],
   "source": [
    "mc2.info()"
   ]
  },
  {
   "cell_type": "code",
   "execution_count": 23,
   "metadata": {},
   "outputs": [],
   "source": [
    "#till now both first atom and the second atom's mst and mc is done"
   ]
  },
  {
   "cell_type": "code",
   "execution_count": 24,
   "metadata": {},
   "outputs": [
    {
     "data": {
      "text/html": [
       "<div>\n",
       "<style scoped>\n",
       "    .dataframe tbody tr th:only-of-type {\n",
       "        vertical-align: middle;\n",
       "    }\n",
       "\n",
       "    .dataframe tbody tr th {\n",
       "        vertical-align: top;\n",
       "    }\n",
       "\n",
       "    .dataframe thead th {\n",
       "        text-align: right;\n",
       "    }\n",
       "</style>\n",
       "<table border=\"1\" class=\"dataframe\">\n",
       "  <thead>\n",
       "    <tr style=\"text-align: right;\">\n",
       "      <th></th>\n",
       "      <th>molecule_name</th>\n",
       "      <th>atom_index</th>\n",
       "      <th>atom</th>\n",
       "      <th>x</th>\n",
       "      <th>y</th>\n",
       "      <th>z</th>\n",
       "    </tr>\n",
       "  </thead>\n",
       "  <tbody>\n",
       "    <tr>\n",
       "      <th>0</th>\n",
       "      <td>dsgdb9nsd_000001</td>\n",
       "      <td>0</td>\n",
       "      <td>C</td>\n",
       "      <td>-0.012698</td>\n",
       "      <td>1.085804</td>\n",
       "      <td>0.008001</td>\n",
       "    </tr>\n",
       "    <tr>\n",
       "      <th>1</th>\n",
       "      <td>dsgdb9nsd_000001</td>\n",
       "      <td>1</td>\n",
       "      <td>H</td>\n",
       "      <td>0.002150</td>\n",
       "      <td>-0.006031</td>\n",
       "      <td>0.001976</td>\n",
       "    </tr>\n",
       "    <tr>\n",
       "      <th>2</th>\n",
       "      <td>dsgdb9nsd_000001</td>\n",
       "      <td>2</td>\n",
       "      <td>H</td>\n",
       "      <td>1.011731</td>\n",
       "      <td>1.463751</td>\n",
       "      <td>0.000277</td>\n",
       "    </tr>\n",
       "    <tr>\n",
       "      <th>3</th>\n",
       "      <td>dsgdb9nsd_000001</td>\n",
       "      <td>3</td>\n",
       "      <td>H</td>\n",
       "      <td>-0.540815</td>\n",
       "      <td>1.447527</td>\n",
       "      <td>-0.876644</td>\n",
       "    </tr>\n",
       "    <tr>\n",
       "      <th>4</th>\n",
       "      <td>dsgdb9nsd_000001</td>\n",
       "      <td>4</td>\n",
       "      <td>H</td>\n",
       "      <td>-0.523814</td>\n",
       "      <td>1.437933</td>\n",
       "      <td>0.906397</td>\n",
       "    </tr>\n",
       "  </tbody>\n",
       "</table>\n",
       "</div>"
      ],
      "text/plain": [
       "      molecule_name  atom_index atom         x         y         z\n",
       "0  dsgdb9nsd_000001           0    C -0.012698  1.085804  0.008001\n",
       "1  dsgdb9nsd_000001           1    H  0.002150 -0.006031  0.001976\n",
       "2  dsgdb9nsd_000001           2    H  1.011731  1.463751  0.000277\n",
       "3  dsgdb9nsd_000001           3    H -0.540815  1.447527 -0.876644\n",
       "4  dsgdb9nsd_000001           4    H -0.523814  1.437933  0.906397"
      ]
     },
     "execution_count": 24,
     "metadata": {},
     "output_type": "execute_result"
    }
   ],
   "source": [
    "#now try to take distance into consideration\n",
    "structures.head()"
   ]
  },
  {
   "cell_type": "code",
   "execution_count": 25,
   "metadata": {},
   "outputs": [
    {
     "data": {
      "text/plain": [
       "Index(['molecule_name', 'atom_index', 'atom', 'x', 'y', 'z'], dtype='object')"
      ]
     },
     "execution_count": 25,
     "metadata": {},
     "output_type": "execute_result"
    }
   ],
   "source": [
    "structures.columns"
   ]
  },
  {
   "cell_type": "code",
   "execution_count": 26,
   "metadata": {},
   "outputs": [],
   "source": [
    "indices = a\n",
    "cols =  ['atom_index', 'x', 'y', 'z']\n",
    "structure1 = structures.loc[indices, cols]\n",
    "indices = w\n",
    "cols =  ['atom_index', 'x', 'y', 'z']\n",
    "structure2 = structures.loc[indices, cols]"
   ]
  },
  {
   "cell_type": "code",
   "execution_count": 27,
   "metadata": {},
   "outputs": [],
   "source": [
    "structure1.columns = ['atom_index', 'x1', 'y1', 'z1']\n",
    "structure2.columns = ['atom_index', 'x2', 'y2', 'z2']"
   ]
  },
  {
   "cell_type": "code",
   "execution_count": 28,
   "metadata": {},
   "outputs": [
    {
     "name": "stdout",
     "output_type": "stream",
     "text": [
      "<class 'pandas.core.frame.DataFrame'>\n",
      "Int64Index: 4658147 entries, 1 to 1532114\n",
      "Data columns (total 4 columns):\n",
      "atom_index    int64\n",
      "x1            float64\n",
      "y1            float64\n",
      "z1            float64\n",
      "dtypes: float64(3), int64(1)\n",
      "memory usage: 177.7 MB\n"
     ]
    }
   ],
   "source": [
    "structure1.info()"
   ]
  },
  {
   "cell_type": "code",
   "execution_count": 29,
   "metadata": {},
   "outputs": [],
   "source": [
    "x1 = structure1['x1'].tolist()\n",
    "y1 = structure1['y1'].tolist()\n",
    "z1 = structure1['z1'].tolist()\n",
    "x2 = structure2['x2'].tolist()\n",
    "y2 = structure2['y2'].tolist()\n",
    "z2 = structure2['z2'].tolist()"
   ]
  },
  {
   "cell_type": "code",
   "execution_count": 32,
   "metadata": {},
   "outputs": [],
   "source": [
    "import math\n",
    "distance = []\n",
    "dis = 0\n",
    "for dis in range (0,4658147):\n",
    "    dist = math.sqrt(abs(x1[dis]-x2[dis])**2 + abs(y1[dis]-y2[dis])**2 + abs(z1[dis]-z2[dis])**2)\n",
    "    distance.append(dist)\n",
    "    dis += 0"
   ]
  },
  {
   "cell_type": "code",
   "execution_count": 33,
   "metadata": {},
   "outputs": [],
   "source": [
    "train.insert(5,'distance',distance)"
   ]
  },
  {
   "cell_type": "code",
   "execution_count": 34,
   "metadata": {},
   "outputs": [
    {
     "data": {
      "text/html": [
       "<div>\n",
       "<style scoped>\n",
       "    .dataframe tbody tr th:only-of-type {\n",
       "        vertical-align: middle;\n",
       "    }\n",
       "\n",
       "    .dataframe tbody tr th {\n",
       "        vertical-align: top;\n",
       "    }\n",
       "\n",
       "    .dataframe thead th {\n",
       "        text-align: right;\n",
       "    }\n",
       "</style>\n",
       "<table border=\"1\" class=\"dataframe\">\n",
       "  <thead>\n",
       "    <tr style=\"text-align: right;\">\n",
       "      <th></th>\n",
       "      <th>id</th>\n",
       "      <th>molecule_name</th>\n",
       "      <th>atom_index</th>\n",
       "      <th>atom_index_1</th>\n",
       "      <th>type</th>\n",
       "      <th>distance</th>\n",
       "      <th>scalar_coupling_constant</th>\n",
       "    </tr>\n",
       "  </thead>\n",
       "  <tbody>\n",
       "    <tr>\n",
       "      <th>4658142</th>\n",
       "      <td>4658142</td>\n",
       "      <td>dsgdb9nsd_133884</td>\n",
       "      <td>17</td>\n",
       "      <td>4</td>\n",
       "      <td>2JHC</td>\n",
       "      <td>3.996830</td>\n",
       "      <td>3.543450</td>\n",
       "    </tr>\n",
       "    <tr>\n",
       "      <th>4658143</th>\n",
       "      <td>4658143</td>\n",
       "      <td>dsgdb9nsd_133884</td>\n",
       "      <td>17</td>\n",
       "      <td>5</td>\n",
       "      <td>3JHC</td>\n",
       "      <td>3.300152</td>\n",
       "      <td>0.568997</td>\n",
       "    </tr>\n",
       "    <tr>\n",
       "      <th>4658144</th>\n",
       "      <td>4658144</td>\n",
       "      <td>dsgdb9nsd_133884</td>\n",
       "      <td>17</td>\n",
       "      <td>6</td>\n",
       "      <td>3JHC</td>\n",
       "      <td>3.901376</td>\n",
       "      <td>1.173370</td>\n",
       "    </tr>\n",
       "    <tr>\n",
       "      <th>4658145</th>\n",
       "      <td>4658145</td>\n",
       "      <td>dsgdb9nsd_133884</td>\n",
       "      <td>17</td>\n",
       "      <td>7</td>\n",
       "      <td>2JHC</td>\n",
       "      <td>3.901376</td>\n",
       "      <td>4.762010</td>\n",
       "    </tr>\n",
       "    <tr>\n",
       "      <th>4658146</th>\n",
       "      <td>4658146</td>\n",
       "      <td>dsgdb9nsd_133884</td>\n",
       "      <td>17</td>\n",
       "      <td>8</td>\n",
       "      <td>1JHC</td>\n",
       "      <td>3.901376</td>\n",
       "      <td>117.934000</td>\n",
       "    </tr>\n",
       "  </tbody>\n",
       "</table>\n",
       "</div>"
      ],
      "text/plain": [
       "              id     molecule_name  atom_index  atom_index_1  type  distance  \\\n",
       "4658142  4658142  dsgdb9nsd_133884          17             4  2JHC  3.996830   \n",
       "4658143  4658143  dsgdb9nsd_133884          17             5  3JHC  3.300152   \n",
       "4658144  4658144  dsgdb9nsd_133884          17             6  3JHC  3.901376   \n",
       "4658145  4658145  dsgdb9nsd_133884          17             7  2JHC  3.901376   \n",
       "4658146  4658146  dsgdb9nsd_133884          17             8  1JHC  3.901376   \n",
       "\n",
       "         scalar_coupling_constant  \n",
       "4658142                  3.543450  \n",
       "4658143                  0.568997  \n",
       "4658144                  1.173370  \n",
       "4658145                  4.762010  \n",
       "4658146                117.934000  "
      ]
     },
     "execution_count": 34,
     "metadata": {},
     "output_type": "execute_result"
    }
   ],
   "source": [
    "train.tail()"
   ]
  },
  {
   "cell_type": "code",
   "execution_count": 35,
   "metadata": {},
   "outputs": [],
   "source": [
    "mulliken_charge_1 = mc1['mulliken_charge'].tolist()\n",
    "mulliken_charge_2 = mc2['mulliken_charge'].tolist()"
   ]
  },
  {
   "cell_type": "code",
   "execution_count": 36,
   "metadata": {},
   "outputs": [],
   "source": [
    "train.insert(6,'mulliken_charge_1',mulliken_charge_1)"
   ]
  },
  {
   "cell_type": "code",
   "execution_count": 37,
   "metadata": {},
   "outputs": [],
   "source": [
    "train.insert(7,'mulliken_charge_2',mulliken_charge_2)"
   ]
  },
  {
   "cell_type": "code",
   "execution_count": 38,
   "metadata": {},
   "outputs": [
    {
     "data": {
      "text/html": [
       "<div>\n",
       "<style scoped>\n",
       "    .dataframe tbody tr th:only-of-type {\n",
       "        vertical-align: middle;\n",
       "    }\n",
       "\n",
       "    .dataframe tbody tr th {\n",
       "        vertical-align: top;\n",
       "    }\n",
       "\n",
       "    .dataframe thead th {\n",
       "        text-align: right;\n",
       "    }\n",
       "</style>\n",
       "<table border=\"1\" class=\"dataframe\">\n",
       "  <thead>\n",
       "    <tr style=\"text-align: right;\">\n",
       "      <th></th>\n",
       "      <th>id</th>\n",
       "      <th>molecule_name</th>\n",
       "      <th>atom_index</th>\n",
       "      <th>atom_index_1</th>\n",
       "      <th>type</th>\n",
       "      <th>distance</th>\n",
       "      <th>mulliken_charge_1</th>\n",
       "      <th>mulliken_charge_2</th>\n",
       "      <th>scalar_coupling_constant</th>\n",
       "    </tr>\n",
       "  </thead>\n",
       "  <tbody>\n",
       "    <tr>\n",
       "      <th>4658127</th>\n",
       "      <td>4658127</td>\n",
       "      <td>dsgdb9nsd_133884</td>\n",
       "      <td>15</td>\n",
       "      <td>7</td>\n",
       "      <td>3JHC</td>\n",
       "      <td>2.440658</td>\n",
       "      <td>0.127307</td>\n",
       "      <td>0.118069</td>\n",
       "      <td>6.131220</td>\n",
       "    </tr>\n",
       "    <tr>\n",
       "      <th>4658128</th>\n",
       "      <td>4658128</td>\n",
       "      <td>dsgdb9nsd_133884</td>\n",
       "      <td>15</td>\n",
       "      <td>8</td>\n",
       "      <td>3JHC</td>\n",
       "      <td>0.187386</td>\n",
       "      <td>0.127307</td>\n",
       "      <td>0.122212</td>\n",
       "      <td>5.124150</td>\n",
       "    </tr>\n",
       "    <tr>\n",
       "      <th>4658129</th>\n",
       "      <td>4658129</td>\n",
       "      <td>dsgdb9nsd_133884</td>\n",
       "      <td>16</td>\n",
       "      <td>0</td>\n",
       "      <td>3JHC</td>\n",
       "      <td>4.559007</td>\n",
       "      <td>0.124013</td>\n",
       "      <td>0.095781</td>\n",
       "      <td>4.922670</td>\n",
       "    </tr>\n",
       "    <tr>\n",
       "      <th>4658130</th>\n",
       "      <td>4658130</td>\n",
       "      <td>dsgdb9nsd_133884</td>\n",
       "      <td>16</td>\n",
       "      <td>1</td>\n",
       "      <td>2JHN</td>\n",
       "      <td>3.041429</td>\n",
       "      <td>0.124013</td>\n",
       "      <td>0.065987</td>\n",
       "      <td>3.719250</td>\n",
       "    </tr>\n",
       "    <tr>\n",
       "      <th>4658131</th>\n",
       "      <td>4658131</td>\n",
       "      <td>dsgdb9nsd_133884</td>\n",
       "      <td>16</td>\n",
       "      <td>2</td>\n",
       "      <td>3JHC</td>\n",
       "      <td>1.905185</td>\n",
       "      <td>0.124013</td>\n",
       "      <td>0.134687</td>\n",
       "      <td>8.935460</td>\n",
       "    </tr>\n",
       "    <tr>\n",
       "      <th>4658132</th>\n",
       "      <td>4658132</td>\n",
       "      <td>dsgdb9nsd_133884</td>\n",
       "      <td>16</td>\n",
       "      <td>3</td>\n",
       "      <td>3JHC</td>\n",
       "      <td>2.471510</td>\n",
       "      <td>0.124013</td>\n",
       "      <td>0.129949</td>\n",
       "      <td>3.545350</td>\n",
       "    </tr>\n",
       "    <tr>\n",
       "      <th>4658133</th>\n",
       "      <td>4658133</td>\n",
       "      <td>dsgdb9nsd_133884</td>\n",
       "      <td>16</td>\n",
       "      <td>4</td>\n",
       "      <td>3JHC</td>\n",
       "      <td>3.067239</td>\n",
       "      <td>0.124013</td>\n",
       "      <td>0.130280</td>\n",
       "      <td>-0.244777</td>\n",
       "    </tr>\n",
       "    <tr>\n",
       "      <th>4658134</th>\n",
       "      <td>4658134</td>\n",
       "      <td>dsgdb9nsd_133884</td>\n",
       "      <td>16</td>\n",
       "      <td>5</td>\n",
       "      <td>3JHC</td>\n",
       "      <td>2.069285</td>\n",
       "      <td>0.124013</td>\n",
       "      <td>0.129677</td>\n",
       "      <td>-0.184689</td>\n",
       "    </tr>\n",
       "    <tr>\n",
       "      <th>4658135</th>\n",
       "      <td>4658135</td>\n",
       "      <td>dsgdb9nsd_133884</td>\n",
       "      <td>16</td>\n",
       "      <td>6</td>\n",
       "      <td>2JHC</td>\n",
       "      <td>2.553787</td>\n",
       "      <td>0.124013</td>\n",
       "      <td>0.118069</td>\n",
       "      <td>1.025490</td>\n",
       "    </tr>\n",
       "    <tr>\n",
       "      <th>4658136</th>\n",
       "      <td>4658136</td>\n",
       "      <td>dsgdb9nsd_133884</td>\n",
       "      <td>16</td>\n",
       "      <td>7</td>\n",
       "      <td>1JHC</td>\n",
       "      <td>1.382303</td>\n",
       "      <td>0.124013</td>\n",
       "      <td>0.122212</td>\n",
       "      <td>99.657200</td>\n",
       "    </tr>\n",
       "    <tr>\n",
       "      <th>4658137</th>\n",
       "      <td>4658137</td>\n",
       "      <td>dsgdb9nsd_133884</td>\n",
       "      <td>16</td>\n",
       "      <td>8</td>\n",
       "      <td>2JHC</td>\n",
       "      <td>2.844962</td>\n",
       "      <td>0.124013</td>\n",
       "      <td>-0.407412</td>\n",
       "      <td>9.119730</td>\n",
       "    </tr>\n",
       "    <tr>\n",
       "      <th>4658138</th>\n",
       "      <td>4658138</td>\n",
       "      <td>dsgdb9nsd_133884</td>\n",
       "      <td>16</td>\n",
       "      <td>17</td>\n",
       "      <td>3JHH</td>\n",
       "      <td>4.548617</td>\n",
       "      <td>0.124013</td>\n",
       "      <td>0.121803</td>\n",
       "      <td>0.789559</td>\n",
       "    </tr>\n",
       "    <tr>\n",
       "      <th>4658139</th>\n",
       "      <td>4658139</td>\n",
       "      <td>dsgdb9nsd_133884</td>\n",
       "      <td>17</td>\n",
       "      <td>1</td>\n",
       "      <td>3JHN</td>\n",
       "      <td>2.409024</td>\n",
       "      <td>0.104738</td>\n",
       "      <td>0.065987</td>\n",
       "      <td>-0.006537</td>\n",
       "    </tr>\n",
       "    <tr>\n",
       "      <th>4658140</th>\n",
       "      <td>4658140</td>\n",
       "      <td>dsgdb9nsd_133884</td>\n",
       "      <td>17</td>\n",
       "      <td>2</td>\n",
       "      <td>3JHC</td>\n",
       "      <td>0.814164</td>\n",
       "      <td>0.104738</td>\n",
       "      <td>0.134687</td>\n",
       "      <td>1.944380</td>\n",
       "    </tr>\n",
       "    <tr>\n",
       "      <th>4658141</th>\n",
       "      <td>4658141</td>\n",
       "      <td>dsgdb9nsd_133884</td>\n",
       "      <td>17</td>\n",
       "      <td>3</td>\n",
       "      <td>2JHC</td>\n",
       "      <td>2.337199</td>\n",
       "      <td>0.104738</td>\n",
       "      <td>0.129949</td>\n",
       "      <td>0.861412</td>\n",
       "    </tr>\n",
       "    <tr>\n",
       "      <th>4658142</th>\n",
       "      <td>4658142</td>\n",
       "      <td>dsgdb9nsd_133884</td>\n",
       "      <td>17</td>\n",
       "      <td>4</td>\n",
       "      <td>2JHC</td>\n",
       "      <td>3.996830</td>\n",
       "      <td>0.104738</td>\n",
       "      <td>0.130280</td>\n",
       "      <td>3.543450</td>\n",
       "    </tr>\n",
       "    <tr>\n",
       "      <th>4658143</th>\n",
       "      <td>4658143</td>\n",
       "      <td>dsgdb9nsd_133884</td>\n",
       "      <td>17</td>\n",
       "      <td>5</td>\n",
       "      <td>3JHC</td>\n",
       "      <td>3.300152</td>\n",
       "      <td>0.104738</td>\n",
       "      <td>0.129677</td>\n",
       "      <td>0.568997</td>\n",
       "    </tr>\n",
       "    <tr>\n",
       "      <th>4658144</th>\n",
       "      <td>4658144</td>\n",
       "      <td>dsgdb9nsd_133884</td>\n",
       "      <td>17</td>\n",
       "      <td>6</td>\n",
       "      <td>3JHC</td>\n",
       "      <td>3.901376</td>\n",
       "      <td>0.104738</td>\n",
       "      <td>0.118069</td>\n",
       "      <td>1.173370</td>\n",
       "    </tr>\n",
       "    <tr>\n",
       "      <th>4658145</th>\n",
       "      <td>4658145</td>\n",
       "      <td>dsgdb9nsd_133884</td>\n",
       "      <td>17</td>\n",
       "      <td>7</td>\n",
       "      <td>2JHC</td>\n",
       "      <td>3.901376</td>\n",
       "      <td>0.104738</td>\n",
       "      <td>0.118069</td>\n",
       "      <td>4.762010</td>\n",
       "    </tr>\n",
       "    <tr>\n",
       "      <th>4658146</th>\n",
       "      <td>4658146</td>\n",
       "      <td>dsgdb9nsd_133884</td>\n",
       "      <td>17</td>\n",
       "      <td>8</td>\n",
       "      <td>1JHC</td>\n",
       "      <td>3.901376</td>\n",
       "      <td>0.104738</td>\n",
       "      <td>0.118069</td>\n",
       "      <td>117.934000</td>\n",
       "    </tr>\n",
       "  </tbody>\n",
       "</table>\n",
       "</div>"
      ],
      "text/plain": [
       "              id     molecule_name  atom_index  atom_index_1  type  distance  \\\n",
       "4658127  4658127  dsgdb9nsd_133884          15             7  3JHC  2.440658   \n",
       "4658128  4658128  dsgdb9nsd_133884          15             8  3JHC  0.187386   \n",
       "4658129  4658129  dsgdb9nsd_133884          16             0  3JHC  4.559007   \n",
       "4658130  4658130  dsgdb9nsd_133884          16             1  2JHN  3.041429   \n",
       "4658131  4658131  dsgdb9nsd_133884          16             2  3JHC  1.905185   \n",
       "4658132  4658132  dsgdb9nsd_133884          16             3  3JHC  2.471510   \n",
       "4658133  4658133  dsgdb9nsd_133884          16             4  3JHC  3.067239   \n",
       "4658134  4658134  dsgdb9nsd_133884          16             5  3JHC  2.069285   \n",
       "4658135  4658135  dsgdb9nsd_133884          16             6  2JHC  2.553787   \n",
       "4658136  4658136  dsgdb9nsd_133884          16             7  1JHC  1.382303   \n",
       "4658137  4658137  dsgdb9nsd_133884          16             8  2JHC  2.844962   \n",
       "4658138  4658138  dsgdb9nsd_133884          16            17  3JHH  4.548617   \n",
       "4658139  4658139  dsgdb9nsd_133884          17             1  3JHN  2.409024   \n",
       "4658140  4658140  dsgdb9nsd_133884          17             2  3JHC  0.814164   \n",
       "4658141  4658141  dsgdb9nsd_133884          17             3  2JHC  2.337199   \n",
       "4658142  4658142  dsgdb9nsd_133884          17             4  2JHC  3.996830   \n",
       "4658143  4658143  dsgdb9nsd_133884          17             5  3JHC  3.300152   \n",
       "4658144  4658144  dsgdb9nsd_133884          17             6  3JHC  3.901376   \n",
       "4658145  4658145  dsgdb9nsd_133884          17             7  2JHC  3.901376   \n",
       "4658146  4658146  dsgdb9nsd_133884          17             8  1JHC  3.901376   \n",
       "\n",
       "         mulliken_charge_1  mulliken_charge_2  scalar_coupling_constant  \n",
       "4658127           0.127307           0.118069                  6.131220  \n",
       "4658128           0.127307           0.122212                  5.124150  \n",
       "4658129           0.124013           0.095781                  4.922670  \n",
       "4658130           0.124013           0.065987                  3.719250  \n",
       "4658131           0.124013           0.134687                  8.935460  \n",
       "4658132           0.124013           0.129949                  3.545350  \n",
       "4658133           0.124013           0.130280                 -0.244777  \n",
       "4658134           0.124013           0.129677                 -0.184689  \n",
       "4658135           0.124013           0.118069                  1.025490  \n",
       "4658136           0.124013           0.122212                 99.657200  \n",
       "4658137           0.124013          -0.407412                  9.119730  \n",
       "4658138           0.124013           0.121803                  0.789559  \n",
       "4658139           0.104738           0.065987                 -0.006537  \n",
       "4658140           0.104738           0.134687                  1.944380  \n",
       "4658141           0.104738           0.129949                  0.861412  \n",
       "4658142           0.104738           0.130280                  3.543450  \n",
       "4658143           0.104738           0.129677                  0.568997  \n",
       "4658144           0.104738           0.118069                  1.173370  \n",
       "4658145           0.104738           0.118069                  4.762010  \n",
       "4658146           0.104738           0.118069                117.934000  "
      ]
     },
     "execution_count": 38,
     "metadata": {},
     "output_type": "execute_result"
    }
   ],
   "source": [
    "train.tail(20)"
   ]
  },
  {
   "cell_type": "code",
   "execution_count": 39,
   "metadata": {},
   "outputs": [
    {
     "data": {
      "text/plain": [
       "Index(['id', 'molecule_name', 'atom_index', 'atom_index_1', 'type', 'distance',\n",
       "       'mulliken_charge_1', 'mulliken_charge_2', 'scalar_coupling_constant'],\n",
       "      dtype='object')"
      ]
     },
     "execution_count": 39,
     "metadata": {},
     "output_type": "execute_result"
    }
   ],
   "source": [
    "train.columns"
   ]
  },
  {
   "cell_type": "code",
   "execution_count": 40,
   "metadata": {
    "scrolled": true
   },
   "outputs": [],
   "source": [
    "mst1.columns = ['atom_index', 'XX1', 'YX1', 'ZX1', 'XY1', 'YY1', 'ZY1', 'XZ1', 'YZ1', 'ZZ1']"
   ]
  },
  {
   "cell_type": "code",
   "execution_count": 41,
   "metadata": {},
   "outputs": [],
   "source": [
    "mst2.columns = ['atom_index', 'XX2', 'YX2', 'ZX2', 'XY2', 'YY2', 'ZY2', 'XZ2', 'YZ2', 'ZZ2']"
   ]
  },
  {
   "cell_type": "code",
   "execution_count": 42,
   "metadata": {},
   "outputs": [
    {
     "data": {
      "text/plain": [
       "Index(['atom_index', 'XX1', 'YX1', 'ZX1', 'XY1', 'YY1', 'ZY1', 'XZ1', 'YZ1',\n",
       "       'ZZ1'],\n",
       "      dtype='object')"
      ]
     },
     "execution_count": 42,
     "metadata": {},
     "output_type": "execute_result"
    }
   ],
   "source": [
    "mst1.columns"
   ]
  },
  {
   "cell_type": "code",
   "execution_count": 43,
   "metadata": {},
   "outputs": [
    {
     "data": {
      "text/plain": [
       "Index(['atom_index', 'XX2', 'YX2', 'ZX2', 'XY2', 'YY2', 'ZY2', 'XZ2', 'YZ2',\n",
       "       'ZZ2'],\n",
       "      dtype='object')"
      ]
     },
     "execution_count": 43,
     "metadata": {},
     "output_type": "execute_result"
    }
   ],
   "source": [
    "mst2.columns"
   ]
  },
  {
   "cell_type": "code",
   "execution_count": 44,
   "metadata": {},
   "outputs": [],
   "source": [
    "#now set up X and y\n",
    "y = train.scalar_coupling_constant\n",
    "train_features = [ 'type', 'distance','mulliken_charge_1', 'mulliken_charge_2']\n",
    "mst1_features = ['XX1', 'YX1', 'ZX1', 'XY1', 'YY1', 'ZY1', 'XZ1', 'YZ1','ZZ1']\n",
    "mst2_features = ['XX2', 'YX2', 'ZX2', 'XY2', 'YY2', 'ZY2', 'XZ2', 'YZ2','ZZ2']\n",
    "X = train[train_features]\n",
    "\n",
    "#train_test_split\n",
    "from sklearn.model_selection import train_test_split\n",
    "train_X, val_X, train_y, val_y = train_test_split(X, y, random_state = 1)\n",
    "\n",
    "#deal with catagorical data\n",
    "from sklearn.preprocessing import LabelEncoder\n",
    "\n",
    "label_X_train = train_X.copy()\n",
    "label_X_valid = val_X.copy()#make copy to avoid chaging original data\n",
    "\n",
    "encoder = LabelEncoder()\n",
    "label_X_train['type'] = encoder.fit_transform(train_X['type'])\n",
    "label_X_valid['type'] = encoder.transform(val_X['type'])#apply label encder to each column with categprical data\n"
   ]
  },
  {
   "cell_type": "code",
   "execution_count": 53,
   "metadata": {},
   "outputs": [
    {
     "data": {
      "text/html": [
       "<div>\n",
       "<style scoped>\n",
       "    .dataframe tbody tr th:only-of-type {\n",
       "        vertical-align: middle;\n",
       "    }\n",
       "\n",
       "    .dataframe tbody tr th {\n",
       "        vertical-align: top;\n",
       "    }\n",
       "\n",
       "    .dataframe thead th {\n",
       "        text-align: right;\n",
       "    }\n",
       "</style>\n",
       "<table border=\"1\" class=\"dataframe\">\n",
       "  <thead>\n",
       "    <tr style=\"text-align: right;\">\n",
       "      <th></th>\n",
       "      <th>type</th>\n",
       "      <th>distance</th>\n",
       "      <th>mulliken_charge_1</th>\n",
       "      <th>mulliken_charge_2</th>\n",
       "    </tr>\n",
       "  </thead>\n",
       "  <tbody>\n",
       "    <tr>\n",
       "      <th>1166159</th>\n",
       "      <td>2</td>\n",
       "      <td>1.058472</td>\n",
       "      <td>0.227796</td>\n",
       "      <td>0.397618</td>\n",
       "    </tr>\n",
       "    <tr>\n",
       "      <th>4267653</th>\n",
       "      <td>5</td>\n",
       "      <td>0.921096</td>\n",
       "      <td>0.114491</td>\n",
       "      <td>-0.368603</td>\n",
       "    </tr>\n",
       "    <tr>\n",
       "      <th>491263</th>\n",
       "      <td>5</td>\n",
       "      <td>3.247891</td>\n",
       "      <td>-0.151763</td>\n",
       "      <td>-0.106102</td>\n",
       "    </tr>\n",
       "    <tr>\n",
       "      <th>3937352</th>\n",
       "      <td>5</td>\n",
       "      <td>5.361333</td>\n",
       "      <td>0.092617</td>\n",
       "      <td>0.093958</td>\n",
       "    </tr>\n",
       "    <tr>\n",
       "      <th>4322341</th>\n",
       "      <td>7</td>\n",
       "      <td>4.834793</td>\n",
       "      <td>-0.062889</td>\n",
       "      <td>0.097796</td>\n",
       "    </tr>\n",
       "  </tbody>\n",
       "</table>\n",
       "</div>"
      ],
      "text/plain": [
       "         type  distance  mulliken_charge_1  mulliken_charge_2\n",
       "1166159     2  1.058472           0.227796           0.397618\n",
       "4267653     5  0.921096           0.114491          -0.368603\n",
       "491263      5  3.247891          -0.151763          -0.106102\n",
       "3937352     5  5.361333           0.092617           0.093958\n",
       "4322341     7  4.834793          -0.062889           0.097796"
      ]
     },
     "execution_count": 53,
     "metadata": {},
     "output_type": "execute_result"
    }
   ],
   "source": [
    "label_X_train.tail()"
   ]
  },
  {
   "cell_type": "code",
   "execution_count": 46,
   "metadata": {},
   "outputs": [
    {
     "data": {
      "text/plain": [
       "Index(['type', 'distance', 'mulliken_charge_1', 'mulliken_charge_2'], dtype='object')"
      ]
     },
     "execution_count": 46,
     "metadata": {},
     "output_type": "execute_result"
    }
   ],
   "source": [
    "label_X_train.columns"
   ]
  },
  {
   "cell_type": "code",
   "execution_count": null,
   "metadata": {},
   "outputs": [],
   "source": []
  },
  {
   "cell_type": "code",
   "execution_count": null,
   "metadata": {},
   "outputs": [],
   "source": []
  },
  {
   "cell_type": "code",
   "execution_count": null,
   "metadata": {},
   "outputs": [],
   "source": []
  },
  {
   "cell_type": "code",
   "execution_count": 55,
   "metadata": {},
   "outputs": [
    {
     "name": "stdout",
     "output_type": "stream",
     "text": [
      "4.590513903604607\n"
     ]
    }
   ],
   "source": [
    "from sklearn.ensemble import RandomForestRegressor\n",
    "from sklearn.metrics import mean_absolute_error\n",
    "model = RandomForestRegressor(random_state = 1)\n",
    "model.fit(label_X_train, train_y)\n",
    "preds = model.predict(label_X_valid)\n",
    "mae = mean_absolute_error(val_y, preds)\n",
    "print(mae)"
   ]
  },
  {
   "cell_type": "code",
   "execution_count": null,
   "metadata": {},
   "outputs": [],
   "source": []
  },
  {
   "cell_type": "code",
   "execution_count": null,
   "metadata": {},
   "outputs": [],
   "source": [
    "mc1.tail(2200000)"
   ]
  },
  {
   "cell_type": "code",
   "execution_count": null,
   "metadata": {},
   "outputs": [],
   "source": [
    "mc2.tail()"
   ]
  },
  {
   "cell_type": "code",
   "execution_count": null,
   "metadata": {},
   "outputs": [],
   "source": []
  }
 ],
 "metadata": {
  "kernelspec": {
   "display_name": "Python 3",
   "language": "python",
   "name": "python3"
  },
  "language_info": {
   "codemirror_mode": {
    "name": "ipython",
    "version": 3
   },
   "file_extension": ".py",
   "mimetype": "text/x-python",
   "name": "python",
   "nbconvert_exporter": "python",
   "pygments_lexer": "ipython3",
   "version": "3.7.0"
  }
 },
 "nbformat": 4,
 "nbformat_minor": 2
}
